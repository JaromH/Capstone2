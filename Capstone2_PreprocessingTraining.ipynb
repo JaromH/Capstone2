{
 "cells": [
  {
   "cell_type": "markdown",
   "id": "22cde886",
   "metadata": {},
   "source": [
    "# Capstone 2: Pre-processing and Training Data Development"
   ]
  },
  {
   "cell_type": "markdown",
   "id": "9b810ca3",
   "metadata": {},
   "source": [
    "## Load Libraries and Data"
   ]
  },
  {
   "cell_type": "code",
   "execution_count": 2,
   "id": "c499a9d7",
   "metadata": {},
   "outputs": [
    {
     "name": "stderr",
     "output_type": "stream",
     "text": [
      "C:\\Users\\jmhat\\anaconda3\\lib\\site-packages\\statsmodels\\tsa\\base\\tsa_model.py:7: FutureWarning: pandas.Int64Index is deprecated and will be removed from pandas in a future version. Use pandas.Index with the appropriate dtype instead.\n",
      "  from pandas import (to_datetime, Int64Index, DatetimeIndex, Period,\n",
      "C:\\Users\\jmhat\\anaconda3\\lib\\site-packages\\statsmodels\\tsa\\base\\tsa_model.py:7: FutureWarning: pandas.Float64Index is deprecated and will be removed from pandas in a future version. Use pandas.Index with the appropriate dtype instead.\n",
      "  from pandas import (to_datetime, Int64Index, DatetimeIndex, Period,\n"
     ]
    }
   ],
   "source": [
    "#Import libraries\n",
    "# Import relevant libraries and packages.\n",
    "import numpy as np \n",
    "import pandas as pd \n",
    "import matplotlib.pyplot as plt \n",
    "import seaborn as sns # For all our visualization needs.\n",
    "import statsmodels.api as sm #This is a python module which provides classes and functions for the estimation of different statistical models, conducting statistical tests, and statistical EDA.\n",
    "from statsmodels.graphics.api import abline_plot # For visualizing evaluating predictions.\n",
    "from sklearn.metrics import mean_squared_error, r2_score #The mean_squared error is the average squared difference between the estimated values and true value. The r2_score is used to determine how the variability of one factor can be caused by its relationship to another related factor.\n",
    "from sklearn.model_selection import train_test_split # To split the data.\n",
    "from sklearn import linear_model, preprocessing # The linear model is the ordinary least squares linear regression model. Preprocessing helps to standardize a data set. If some outliers are present in the set, robust scalers or transformers are more appropriate.\n",
    "import warnings # For handling error messages.\n",
    "# Don't worry about the following two instructions: they just suppress warnings that could occur later. \n",
    "warnings.simplefilter(action='ignore', category=FutureWarning)\n",
    "warnings.filterwarnings(action='ignore', module='scipy', message='^internal gelsd')\n",
    "import os\n",
    "from library.sb_utils import save_file"
   ]
  },
  {
   "cell_type": "code",
   "execution_count": 3,
   "id": "6c810a82",
   "metadata": {},
   "outputs": [],
   "source": [
    "#Load the CSV data from the data wrangling\n",
    "data_all_0 = pd.read_csv('C:/Users/jmhat/Desktop/Coding/Capstone2/data/data_all_0.csv')\n",
    "data_no_nan = pd.read_csv('C:/Users/jmhat/Desktop/Coding/Capstone2/data/data_no_nan.csv')"
   ]
  },
  {
   "cell_type": "markdown",
   "id": "1fe76c60",
   "metadata": {},
   "source": [
    "## Split data into training and test sets"
   ]
  },
  {
   "cell_type": "code",
   "execution_count": 4,
   "id": "ff0e01ca",
   "metadata": {},
   "outputs": [],
   "source": [
    "#Split the data into training and testing sections\n",
    "X_0 = data_all_0.drop(columns=['Weekly_Sales'])\n",
    "y_0 = data_all_0['Weekly_Sales']\n",
    "from sklearn.model_selection import train_test_split\n",
    "X_train, X_test, y_train, y_test = train_test_split(X_0, y_0, test_size=0.2, random_state=42)"
   ]
  },
  {
   "cell_type": "code",
   "execution_count": 5,
   "id": "82d13abc",
   "metadata": {},
   "outputs": [],
   "source": [
    "X_nan = data_no_nan.drop(columns=['Weekly_Sales'])\n",
    "y_nan = data_no_nan['Weekly_Sales']\n",
    "X1_train, X1_test, y1_train, y1_test = train_test_split(X_nan, y_nan, test_size=0.2, random_state=42)"
   ]
  },
  {
   "cell_type": "code",
   "execution_count": 6,
   "id": "8669cab3",
   "metadata": {},
   "outputs": [
    {
     "data": {
      "text/html": [
       "<div>\n",
       "<style scoped>\n",
       "    .dataframe tbody tr th:only-of-type {\n",
       "        vertical-align: middle;\n",
       "    }\n",
       "\n",
       "    .dataframe tbody tr th {\n",
       "        vertical-align: top;\n",
       "    }\n",
       "\n",
       "    .dataframe thead th {\n",
       "        text-align: right;\n",
       "    }\n",
       "</style>\n",
       "<table border=\"1\" class=\"dataframe\">\n",
       "  <thead>\n",
       "    <tr style=\"text-align: right;\">\n",
       "      <th></th>\n",
       "      <th>Store</th>\n",
       "      <th>Date</th>\n",
       "      <th>Temperature</th>\n",
       "      <th>Fuel_Price</th>\n",
       "      <th>MarkDown1</th>\n",
       "      <th>MarkDown2</th>\n",
       "      <th>MarkDown3</th>\n",
       "      <th>MarkDown4</th>\n",
       "      <th>MarkDown5</th>\n",
       "      <th>CPI</th>\n",
       "      <th>Unemployment</th>\n",
       "      <th>IsHoliday</th>\n",
       "      <th>Dept</th>\n",
       "      <th>Size</th>\n",
       "      <th>Type_B</th>\n",
       "      <th>Type_C</th>\n",
       "    </tr>\n",
       "  </thead>\n",
       "  <tbody>\n",
       "    <tr>\n",
       "      <th>138466</th>\n",
       "      <td>15</td>\n",
       "      <td>733895</td>\n",
       "      <td>31.79</td>\n",
       "      <td>2.919</td>\n",
       "      <td>0.00</td>\n",
       "      <td>0.00</td>\n",
       "      <td>0.00</td>\n",
       "      <td>0.00</td>\n",
       "      <td>0.00</td>\n",
       "      <td>131.735000</td>\n",
       "      <td>8.350</td>\n",
       "      <td>0</td>\n",
       "      <td>96.0</td>\n",
       "      <td>123737</td>\n",
       "      <td>1</td>\n",
       "      <td>0</td>\n",
       "    </tr>\n",
       "    <tr>\n",
       "      <th>289214</th>\n",
       "      <td>30</td>\n",
       "      <td>734186</td>\n",
       "      <td>59.87</td>\n",
       "      <td>3.045</td>\n",
       "      <td>0.00</td>\n",
       "      <td>0.00</td>\n",
       "      <td>0.00</td>\n",
       "      <td>0.00</td>\n",
       "      <td>0.00</td>\n",
       "      <td>212.903312</td>\n",
       "      <td>8.028</td>\n",
       "      <td>0</td>\n",
       "      <td>10.0</td>\n",
       "      <td>42988</td>\n",
       "      <td>0</td>\n",
       "      <td>1</td>\n",
       "    </tr>\n",
       "    <tr>\n",
       "      <th>52351</th>\n",
       "      <td>6</td>\n",
       "      <td>734158</td>\n",
       "      <td>46.20</td>\n",
       "      <td>3.016</td>\n",
       "      <td>0.00</td>\n",
       "      <td>0.00</td>\n",
       "      <td>0.00</td>\n",
       "      <td>0.00</td>\n",
       "      <td>0.00</td>\n",
       "      <td>213.339965</td>\n",
       "      <td>6.858</td>\n",
       "      <td>0</td>\n",
       "      <td>10.0</td>\n",
       "      <td>202505</td>\n",
       "      <td>0</td>\n",
       "      <td>0</td>\n",
       "    </tr>\n",
       "    <tr>\n",
       "      <th>203504</th>\n",
       "      <td>21</td>\n",
       "      <td>734431</td>\n",
       "      <td>65.16</td>\n",
       "      <td>3.353</td>\n",
       "      <td>0.00</td>\n",
       "      <td>0.00</td>\n",
       "      <td>0.00</td>\n",
       "      <td>0.00</td>\n",
       "      <td>0.00</td>\n",
       "      <td>217.165004</td>\n",
       "      <td>7.441</td>\n",
       "      <td>0</td>\n",
       "      <td>27.0</td>\n",
       "      <td>140167</td>\n",
       "      <td>1</td>\n",
       "      <td>0</td>\n",
       "    </tr>\n",
       "    <tr>\n",
       "      <th>233606</th>\n",
       "      <td>24</td>\n",
       "      <td>734466</td>\n",
       "      <td>41.83</td>\n",
       "      <td>3.689</td>\n",
       "      <td>2571.98</td>\n",
       "      <td>66.94</td>\n",
       "      <td>64304.51</td>\n",
       "      <td>221.93</td>\n",
       "      <td>3661.62</td>\n",
       "      <td>136.478800</td>\n",
       "      <td>8.454</td>\n",
       "      <td>1</td>\n",
       "      <td>25.0</td>\n",
       "      <td>203819</td>\n",
       "      <td>0</td>\n",
       "      <td>0</td>\n",
       "    </tr>\n",
       "  </tbody>\n",
       "</table>\n",
       "</div>"
      ],
      "text/plain": [
       "        Store    Date  Temperature  Fuel_Price  MarkDown1  MarkDown2  \\\n",
       "138466     15  733895        31.79       2.919       0.00       0.00   \n",
       "289214     30  734186        59.87       3.045       0.00       0.00   \n",
       "52351       6  734158        46.20       3.016       0.00       0.00   \n",
       "203504     21  734431        65.16       3.353       0.00       0.00   \n",
       "233606     24  734466        41.83       3.689    2571.98      66.94   \n",
       "\n",
       "        MarkDown3  MarkDown4  MarkDown5         CPI  Unemployment  IsHoliday  \\\n",
       "138466       0.00       0.00       0.00  131.735000         8.350          0   \n",
       "289214       0.00       0.00       0.00  212.903312         8.028          0   \n",
       "52351        0.00       0.00       0.00  213.339965         6.858          0   \n",
       "203504       0.00       0.00       0.00  217.165004         7.441          0   \n",
       "233606   64304.51     221.93    3661.62  136.478800         8.454          1   \n",
       "\n",
       "        Dept    Size  Type_B  Type_C  \n",
       "138466  96.0  123737       1       0  \n",
       "289214  10.0   42988       0       1  \n",
       "52351   10.0  202505       0       0  \n",
       "203504  27.0  140167       1       0  \n",
       "233606  25.0  203819       0       0  "
      ]
     },
     "execution_count": 6,
     "metadata": {},
     "output_type": "execute_result"
    }
   ],
   "source": [
    "X_train.head()"
   ]
  },
  {
   "cell_type": "code",
   "execution_count": 7,
   "id": "5c78df04",
   "metadata": {},
   "outputs": [
    {
     "data": {
      "text/html": [
       "<div>\n",
       "<style scoped>\n",
       "    .dataframe tbody tr th:only-of-type {\n",
       "        vertical-align: middle;\n",
       "    }\n",
       "\n",
       "    .dataframe tbody tr th {\n",
       "        vertical-align: top;\n",
       "    }\n",
       "\n",
       "    .dataframe thead th {\n",
       "        text-align: right;\n",
       "    }\n",
       "</style>\n",
       "<table border=\"1\" class=\"dataframe\">\n",
       "  <thead>\n",
       "    <tr style=\"text-align: right;\">\n",
       "      <th></th>\n",
       "      <th>Store</th>\n",
       "      <th>Date</th>\n",
       "      <th>Temperature</th>\n",
       "      <th>Fuel_Price</th>\n",
       "      <th>CPI</th>\n",
       "      <th>Unemployment</th>\n",
       "      <th>IsHoliday</th>\n",
       "      <th>Dept</th>\n",
       "      <th>Size</th>\n",
       "      <th>Type_B</th>\n",
       "      <th>Type_C</th>\n",
       "    </tr>\n",
       "  </thead>\n",
       "  <tbody>\n",
       "    <tr>\n",
       "      <th>138466</th>\n",
       "      <td>15</td>\n",
       "      <td>733895</td>\n",
       "      <td>31.79</td>\n",
       "      <td>2.919</td>\n",
       "      <td>131.735000</td>\n",
       "      <td>8.350</td>\n",
       "      <td>0</td>\n",
       "      <td>96.0</td>\n",
       "      <td>123737</td>\n",
       "      <td>1</td>\n",
       "      <td>0</td>\n",
       "    </tr>\n",
       "    <tr>\n",
       "      <th>289214</th>\n",
       "      <td>30</td>\n",
       "      <td>734186</td>\n",
       "      <td>59.87</td>\n",
       "      <td>3.045</td>\n",
       "      <td>212.903312</td>\n",
       "      <td>8.028</td>\n",
       "      <td>0</td>\n",
       "      <td>10.0</td>\n",
       "      <td>42988</td>\n",
       "      <td>0</td>\n",
       "      <td>1</td>\n",
       "    </tr>\n",
       "    <tr>\n",
       "      <th>52351</th>\n",
       "      <td>6</td>\n",
       "      <td>734158</td>\n",
       "      <td>46.20</td>\n",
       "      <td>3.016</td>\n",
       "      <td>213.339965</td>\n",
       "      <td>6.858</td>\n",
       "      <td>0</td>\n",
       "      <td>10.0</td>\n",
       "      <td>202505</td>\n",
       "      <td>0</td>\n",
       "      <td>0</td>\n",
       "    </tr>\n",
       "    <tr>\n",
       "      <th>203504</th>\n",
       "      <td>21</td>\n",
       "      <td>734431</td>\n",
       "      <td>65.16</td>\n",
       "      <td>3.353</td>\n",
       "      <td>217.165004</td>\n",
       "      <td>7.441</td>\n",
       "      <td>0</td>\n",
       "      <td>27.0</td>\n",
       "      <td>140167</td>\n",
       "      <td>1</td>\n",
       "      <td>0</td>\n",
       "    </tr>\n",
       "    <tr>\n",
       "      <th>233606</th>\n",
       "      <td>24</td>\n",
       "      <td>734466</td>\n",
       "      <td>41.83</td>\n",
       "      <td>3.689</td>\n",
       "      <td>136.478800</td>\n",
       "      <td>8.454</td>\n",
       "      <td>1</td>\n",
       "      <td>25.0</td>\n",
       "      <td>203819</td>\n",
       "      <td>0</td>\n",
       "      <td>0</td>\n",
       "    </tr>\n",
       "  </tbody>\n",
       "</table>\n",
       "</div>"
      ],
      "text/plain": [
       "        Store    Date  Temperature  Fuel_Price         CPI  Unemployment  \\\n",
       "138466     15  733895        31.79       2.919  131.735000         8.350   \n",
       "289214     30  734186        59.87       3.045  212.903312         8.028   \n",
       "52351       6  734158        46.20       3.016  213.339965         6.858   \n",
       "203504     21  734431        65.16       3.353  217.165004         7.441   \n",
       "233606     24  734466        41.83       3.689  136.478800         8.454   \n",
       "\n",
       "        IsHoliday  Dept    Size  Type_B  Type_C  \n",
       "138466          0  96.0  123737       1       0  \n",
       "289214          0  10.0   42988       0       1  \n",
       "52351           0  10.0  202505       0       0  \n",
       "203504          0  27.0  140167       1       0  \n",
       "233606          1  25.0  203819       0       0  "
      ]
     },
     "execution_count": 7,
     "metadata": {},
     "output_type": "execute_result"
    }
   ],
   "source": [
    "X1_train.head()"
   ]
  },
  {
   "cell_type": "code",
   "execution_count": 8,
   "id": "a9b96923",
   "metadata": {},
   "outputs": [
    {
     "data": {
      "text/plain": [
       "138466     1592.31\n",
       "289214      161.71\n",
       "52351     36427.26\n",
       "203504     1792.48\n",
       "233606    14598.98\n",
       "Name: Weekly_Sales, dtype: float64"
      ]
     },
     "execution_count": 8,
     "metadata": {},
     "output_type": "execute_result"
    }
   ],
   "source": [
    "y_train.head()"
   ]
  },
  {
   "cell_type": "code",
   "execution_count": 9,
   "id": "e9b03ea8",
   "metadata": {},
   "outputs": [
    {
     "data": {
      "text/plain": [
       "138466     1592.31\n",
       "289214      161.71\n",
       "52351     36427.26\n",
       "203504     1792.48\n",
       "233606    14598.98\n",
       "Name: Weekly_Sales, dtype: float64"
      ]
     },
     "execution_count": 9,
     "metadata": {},
     "output_type": "execute_result"
    }
   ],
   "source": [
    "y1_train.head()"
   ]
  },
  {
   "cell_type": "markdown",
   "id": "0a88b50d",
   "metadata": {},
   "source": [
    "## Scale the training and testing data"
   ]
  },
  {
   "cell_type": "code",
   "execution_count": 15,
   "id": "25e568a5",
   "metadata": {},
   "outputs": [],
   "source": [
    "from sklearn.pipeline import Pipeline, make_pipeline\n",
    "from sklearn.preprocessing import StandardScaler, MaxAbsScaler, MinMaxScaler"
   ]
  },
  {
   "cell_type": "code",
   "execution_count": 16,
   "id": "f70ee50e",
   "metadata": {},
   "outputs": [],
   "source": [
    "SS_scaler = StandardScaler()\n",
    "MM_scaler = MinMaxScaler()\n",
    "MA_scaler = MaxAbsScaler()\n",
    "\n",
    "SS_scaler.fit(X_train)\n",
    "MM_scaler.fit(X_train)\n",
    "MA_scaler.fit(X_train)\n",
    "\n",
    "XtrainSS_scaled = SS_scaler.transform(X_train)\n",
    "XtrainMM_scaled = MM_scaler.transform(X_train)\n",
    "XtrainMA_scaled = MA_scaler.transform(X_train)"
   ]
  },
  {
   "cell_type": "code",
   "execution_count": 17,
   "id": "f824f019",
   "metadata": {},
   "outputs": [],
   "source": [
    "SS_scaler.fit(X1_train)\n",
    "MM_scaler.fit(X1_train)\n",
    "MA_scaler.fit(X1_train)\n",
    "\n",
    "X1trainSS_scaled = SS_scaler.transform(X1_train)\n",
    "X1trainMM_scaled = MM_scaler.transform(X1_train)\n",
    "X1trainMA_scaled = MA_scaler.transform(X1_train)"
   ]
  },
  {
   "cell_type": "code",
   "execution_count": 18,
   "id": "6c448bef",
   "metadata": {},
   "outputs": [],
   "source": [
    "SS_scaler.fit(X_test)\n",
    "MM_scaler.fit(X_test)\n",
    "MA_scaler.fit(X_test)\n",
    "\n",
    "XtestSS_scaled = SS_scaler.transform(X_test)\n",
    "XtestMM_scaled = MM_scaler.transform(X_test)\n",
    "XtestMA_scaled = MA_scaler.transform(X_test)"
   ]
  },
  {
   "cell_type": "code",
   "execution_count": 19,
   "id": "ef609df3",
   "metadata": {},
   "outputs": [],
   "source": [
    "SS_scaler.fit(X1_test)\n",
    "MM_scaler.fit(X1_test)\n",
    "MA_scaler.fit(X1_test)\n",
    "\n",
    "X1testSS_scaled = SS_scaler.transform(X1_test)\n",
    "X1testMM_scaled = MM_scaler.transform(X1_test)\n",
    "X1testnMA_scaled = MA_scaler.transform(X1_test)"
   ]
  },
  {
   "cell_type": "code",
   "execution_count": null,
   "id": "ba864fa6",
   "metadata": {},
   "outputs": [],
   "source": []
  }
 ],
 "metadata": {
  "kernelspec": {
   "display_name": "Python 3",
   "language": "python",
   "name": "python3"
  },
  "language_info": {
   "codemirror_mode": {
    "name": "ipython",
    "version": 3
   },
   "file_extension": ".py",
   "mimetype": "text/x-python",
   "name": "python",
   "nbconvert_exporter": "python",
   "pygments_lexer": "ipython3",
   "version": "3.8.8"
  }
 },
 "nbformat": 4,
 "nbformat_minor": 5
}
